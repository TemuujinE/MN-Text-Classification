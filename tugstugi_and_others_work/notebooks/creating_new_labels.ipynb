{
 "cells": [
  {
   "cell_type": "code",
   "execution_count": 1,
   "id": "6fd8f6a6",
   "metadata": {},
   "outputs": [],
   "source": [
    "import pandas as pd\n",
    "import matplotlib.pyplot as plt"
   ]
  },
  {
   "cell_type": "code",
   "execution_count": 5,
   "id": "ccba3d56",
   "metadata": {},
   "outputs": [
    {
     "data": {
      "text/html": [
       "<div>\n",
       "<style scoped>\n",
       "    .dataframe tbody tr th:only-of-type {\n",
       "        vertical-align: middle;\n",
       "    }\n",
       "\n",
       "    .dataframe tbody tr th {\n",
       "        vertical-align: top;\n",
       "    }\n",
       "\n",
       "    .dataframe thead th {\n",
       "        text-align: right;\n",
       "    }\n",
       "</style>\n",
       "<table border=\"1\" class=\"dataframe\">\n",
       "  <thead>\n",
       "    <tr style=\"text-align: right;\">\n",
       "      <th></th>\n",
       "      <th>agency</th>\n",
       "      <th>content</th>\n",
       "      <th>created_at</th>\n",
       "      <th>source_text</th>\n",
       "      <th>status_text</th>\n",
       "      <th>type_text</th>\n",
       "    </tr>\n",
       "  </thead>\n",
       "  <tbody>\n",
       "    <tr>\n",
       "      <th>0</th>\n",
       "      <td>Нийслэлийн Засаг даргын Тамгын газар</td>\n",
       "      <td>Дулааны тухай</td>\n",
       "      <td>2012-10-13T16:33:29.484371Z</td>\n",
       "      <td>Дуудлага</td>\n",
       "      <td>Хаагдсан</td>\n",
       "      <td>Гомдол</td>\n",
       "    </tr>\n",
       "    <tr>\n",
       "      <th>1</th>\n",
       "      <td>Ерөнхий сайд</td>\n",
       "      <td>Ерөнхий сайдтай уулзах. Жолоочийн эрх ашиг алд...</td>\n",
       "      <td>2012-10-13T16:33:29.492197Z</td>\n",
       "      <td>Биечлэн</td>\n",
       "      <td>Хаагдсан</td>\n",
       "      <td>Санал хүсэлт</td>\n",
       "    </tr>\n",
       "    <tr>\n",
       "      <th>2</th>\n",
       "      <td>Хүнс, хөдөө аж ахуй, хөнгөн үйлдвэрийн яам</td>\n",
       "      <td>Нефтийн үйлдвэр байгуулах тухай.</td>\n",
       "      <td>2012-10-13T16:33:29.495729Z</td>\n",
       "      <td>Дуудлага</td>\n",
       "      <td>Хаагдсан</td>\n",
       "      <td>Санал хүсэлт</td>\n",
       "    </tr>\n",
       "    <tr>\n",
       "      <th>3</th>\n",
       "      <td>Цагдаагийн ерөнхий газар</td>\n",
       "      <td>Жолооны үнэмлэх яагаад хэвлэгдэхгүй байна ?</td>\n",
       "      <td>2012-10-13T16:33:29.499487Z</td>\n",
       "      <td>Дуудлага</td>\n",
       "      <td>Хаагдсан</td>\n",
       "      <td>Санал хүсэлт</td>\n",
       "    </tr>\n",
       "    <tr>\n",
       "      <th>4</th>\n",
       "      <td>Эрүүл мэндийн яам</td>\n",
       "      <td>БГД Гэмтэл-н эмнэлгийн гадуурх хашааг нураах т...</td>\n",
       "      <td>2012-10-13T16:33:29.503063Z</td>\n",
       "      <td>Дуудлага</td>\n",
       "      <td>Хаагдсан</td>\n",
       "      <td>Гомдол</td>\n",
       "    </tr>\n",
       "  </tbody>\n",
       "</table>\n",
       "</div>"
      ],
      "text/plain": [
       "                                       agency  \\\n",
       "0        Нийслэлийн Засаг даргын Тамгын газар   \n",
       "1                                Ерөнхий сайд   \n",
       "2  Хүнс, хөдөө аж ахуй, хөнгөн үйлдвэрийн яам   \n",
       "3                    Цагдаагийн ерөнхий газар   \n",
       "4                           Эрүүл мэндийн яам   \n",
       "\n",
       "                                             content  \\\n",
       "0                                      Дулааны тухай   \n",
       "1  Ерөнхий сайдтай уулзах. Жолоочийн эрх ашиг алд...   \n",
       "2                   Нефтийн үйлдвэр байгуулах тухай.   \n",
       "3        Жолооны үнэмлэх яагаад хэвлэгдэхгүй байна ?   \n",
       "4  БГД Гэмтэл-н эмнэлгийн гадуурх хашааг нураах т...   \n",
       "\n",
       "                    created_at source_text status_text     type_text  \n",
       "0  2012-10-13T16:33:29.484371Z    Дуудлага    Хаагдсан        Гомдол  \n",
       "1  2012-10-13T16:33:29.492197Z     Биечлэн    Хаагдсан  Санал хүсэлт  \n",
       "2  2012-10-13T16:33:29.495729Z    Дуудлага    Хаагдсан  Санал хүсэлт  \n",
       "3  2012-10-13T16:33:29.499487Z    Дуудлага    Хаагдсан  Санал хүсэлт  \n",
       "4  2012-10-13T16:33:29.503063Z    Дуудлага    Хаагдсан        Гомдол  "
      ]
     },
     "execution_count": 5,
     "metadata": {},
     "output_type": "execute_result"
    }
   ],
   "source": [
    "df_path = '../../main_dataset/'\n",
    "model_and_encoder_path = '../models/'\n",
    "\n",
    "df = pd.read_csv(df_path + '1111_only_mn.csv')\n",
    "df.head()"
   ]
  },
  {
   "cell_type": "code",
   "execution_count": 3,
   "id": "55eeec39",
   "metadata": {},
   "outputs": [
    {
     "data": {
      "text/plain": [
       "array(['Гомдол', 'Санал хүсэлт', 'Шүүмжлэл', 'Талархал', 'Өргөдөл'],\n",
       "      dtype=object)"
      ]
     },
     "execution_count": 3,
     "metadata": {},
     "output_type": "execute_result"
    }
   ],
   "source": [
    "df['type_text'].unique()"
   ]
  },
  {
   "cell_type": "code",
   "execution_count": 4,
   "id": "fe92effa",
   "metadata": {},
   "outputs": [],
   "source": [
    "questions = df['content'].str.contains('?', regex = False)\n",
    "complaint = df['content'].str.contains('!', regex = False)\n",
    "\n",
    "df.loc[questions, 'type_text'] = 'Асуулт'\n",
    "df.loc[complaint, 'type_text'] = 'Гомдол'"
   ]
  },
  {
   "cell_type": "code",
   "execution_count": 5,
   "id": "88bc36ef",
   "metadata": {},
   "outputs": [],
   "source": [
    "#df.to_csv(df_path + '1111_dataset_question_label_added.csv', index = None)"
   ]
  },
  {
   "cell_type": "code",
   "execution_count": 26,
   "id": "f159869d",
   "metadata": {},
   "outputs": [
    {
     "data": {
      "image/png": "[encoded data removed]",
      "text/plain": [
       "<Figure size 432x288 with 1 Axes>"
      ]
     },
     "metadata": {
      "needs_background": "light"
     },
     "output_type": "display_data"
    }
   ],
   "source": [
    "gra_len = [len(item) for item in df.loc[df['type_text'] == 'Талархал']['content']]\n",
    "\n",
    "plt.hist(gra_len);"
   ]
  },
  {
   "cell_type": "code",
   "execution_count": 27,
   "id": "7aa93586",
   "metadata": {},
   "outputs": [
    {
     "data": {
      "image/png": "[encoded data removed]",
      "text/plain": [
       "<Figure size 432x288 with 1 Axes>"
      ]
     },
     "metadata": {
      "needs_background": "light"
     },
     "output_type": "display_data"
    }
   ],
   "source": [
    "crit_len = [len(item) for item in df.loc[df['type_text'] == 'Шүүмжлэл']['content']]\n",
    "\n",
    "plt.hist(crit_len);"
   ]
  },
  {
   "cell_type": "code",
   "execution_count": 28,
   "id": "a3bd4f62",
   "metadata": {},
   "outputs": [
    {
     "data": {
      "image/png": "[encoded data removed]",
      "text/plain": [
       "<Figure size 432x288 with 1 Axes>"
      ]
     },
     "metadata": {
      "needs_background": "light"
     },
     "output_type": "display_data"
    }
   ],
   "source": [
    "letter_len = [len(item) for item in df.loc[df['type_text'] == 'Өргөдөл']['content']]\n",
    "\n",
    "plt.hist(letter_len);"
   ]
  },
  {
   "cell_type": "code",
   "execution_count": null,
   "id": "32070493",
   "metadata": {},
   "outputs": [],
   "source": []
  }
 ],
 "metadata": {
  "kernelspec": {
   "display_name": "Python 3",
   "language": "python",
   "name": "python3"
  },
  "language_info": {
   "codemirror_mode": {
    "name": "ipython",
    "version": 3
   },
   "file_extension": ".py",
   "mimetype": "text/x-python",
   "name": "python",
   "nbconvert_exporter": "python",
   "pygments_lexer": "ipython3",
   "version": "3.9.1"
  }
 },
 "nbformat": 4,
 "nbformat_minor": 5
}
