{
 "cells": [
  {
   "cell_type": "code",
   "execution_count": 3,
   "id": "57ca5c2e",
   "metadata": {},
   "outputs": [],
   "source": [
    "import sentencepiece as spm\n",
    "import pandas as pd\n",
    "import numpy as np\n",
    "import time\n",
    "\n",
    "from sklearn.feature_extraction.text import *\n",
    "from sklearn.linear_model import SGDClassifier\n",
    "from sklearn.pipeline import Pipeline\n",
    "from sklearn.model_selection import train_test_split\n",
    "\n",
    "import matplotlib.pyplot as plt\n",
    "import seaborn as sns\n",
    "import warnings\n",
    "warnings.filterwarnings('ignore')"
   ]
  },
  {
   "cell_type": "code",
   "execution_count": 4,
   "id": "350b4811",
   "metadata": {},
   "outputs": [],
   "source": [
    "df_path = '../../main_dataset/'\n",
    "trained_model_and_fitted_encoder_path = '../models/'\n",
    "plots_path = '../plots/'\n",
    "\n",
    "# Rows where content feature includes numbers are dropped\n",
    "url = 'https://drive.google.com/file/d/1PCMROt6zbd90AfODLSEGogYfqzHnohTx/view?usp=sharing'\n",
    "path = 'https://drive.google.com/uc?export=download&id=' + url.split('/')[-2]\n",
    "df = pd.read_csv(path)"
   ]
  },
  {
   "cell_type": "code",
   "execution_count": 7,
   "id": "290b9eeb",
   "metadata": {},
   "outputs": [
    {
     "data": {
      "text/plain": [
       "array(['Гомдол', 'Санал хүсэлт', 'Асуулт', 'Шүүмжлэл', 'Талархал',\n",
       "       'Өргөдөл'], dtype=object)"
      ]
     },
     "execution_count": 7,
     "metadata": {},
     "output_type": "execute_result"
    }
   ],
   "source": [
    "df['type_text'].unique()"
   ]
  },
  {
   "cell_type": "code",
   "execution_count": 8,
   "id": "0bf72002",
   "metadata": {},
   "outputs": [],
   "source": [
    "sp = spm.SentencePieceProcessor()\n",
    "sp.Load('../mongolian_bert_sentencepiece/mn_uncased.model')\n",
    "\n",
    "def sp_tokenize(w):\n",
    "    return sp.EncodeAsPieces(w)"
   ]
  },
  {
   "cell_type": "code",
   "execution_count": 9,
   "id": "8ef0a720",
   "metadata": {},
   "outputs": [],
   "source": [
    "import re\n",
    "\n",
    "# Numbers not dropped\n",
    "#df['content'] = [re.sub('\\d', '', sent) for sent in df['content']]\n",
    "#df['content'] = [re.sub('-', ' ', sent) for sent in df['content']]\n",
    "#df['content'] = [re.sub(' \\s+', ' ', sent) for sent in df['content']]"
   ]
  },
  {
   "cell_type": "code",
   "execution_count": 10,
   "id": "116663e2",
   "metadata": {},
   "outputs": [
    {
     "name": "stdout",
     "output_type": "stream",
     "text": [
      "Training time in seconds:  2.079572916030884\n",
      "Prediction time in seconds:  0.1986551284790039\n",
      "Feature count: 19526\n",
      "Classifier accuracy:  0.8179337231968811\n"
     ]
    }
   ],
   "source": [
    "# Stratified train and test split\n",
    "train, test = train_test_split(df, test_size=0.1, random_state=999, stratify=df['type_text'])\n",
    "\n",
    "text_clf = Pipeline([('vect', CountVectorizer(tokenizer=sp_tokenize, lowercase=True)),\n",
    "                     ('tfidf', TfidfTransformer()),\n",
    "                     ('clf', SGDClassifier(loss='hinge', penalty='l2', alpha=1e-4, max_iter=5, random_state=0))])\n",
    "\n",
    "t = time.time()\n",
    "text_clf = text_clf.fit(train['content'], train['type_text'])\n",
    "t = time.time()-t\n",
    "print(\"Training time in seconds: \", t)\n",
    "\n",
    "t = time.time()\n",
    "predicted = text_clf.predict(test['content'])\n",
    "t = time.time()-t\n",
    "print(\"Prediction time in seconds: \", t)\n",
    "\n",
    "print(\"Feature count:\", len(text_clf.named_steps['vect'].vocabulary_))\n",
    "\n",
    "acc = np.mean(predicted == test['type_text'])\n",
    "print(\"Classifier accuracy: \", acc)"
   ]
  },
  {
   "cell_type": "code",
   "execution_count": 11,
   "id": "1aee40e7",
   "metadata": {},
   "outputs": [
    {
     "name": "stdout",
     "output_type": "stream",
     "text": [
      "Text: Би эмнэлэгийн бага эмч миний дүү хорт хавдар туссан. Хавдар судлалын эмнэлэг дээр туяа эмчилгээнд орох гэж орж чадахгүй байна. Маш хүнд сурталттай байна.\n",
      "Pred: Санал хүсэлт\n"
     ]
    }
   ],
   "source": [
    "print('Text:', test['content'][14818])\n",
    "print('Pred:', text_clf.predict([test['content'][14818]])[0])"
   ]
  },
  {
   "cell_type": "code",
   "execution_count": 13,
   "id": "4624ae70",
   "metadata": {},
   "outputs": [],
   "source": [
    "to_pred = [\n",
    "    'Би шинэ апп татаад орох гэхээр орохгүй шууд гарчихаад',\n",
    "    'Танай сүлжээ болохгүй байх шиг байна хэзээ хэвийн болох вэ',\n",
    "    'одоо тэр мөнгөө яаж авч байж хаах уу',\n",
    "    'Е-код интернэтээр худалдан авалтын код онлайнаар авч болох уу?'\n",
    "]"
   ]
  },
  {
   "cell_type": "code",
   "execution_count": 14,
   "id": "e9d8d5d1",
   "metadata": {},
   "outputs": [
    {
     "name": "stdout",
     "output_type": "stream",
     "text": [
      "Text: Би шинэ апп татаад орох гэхээр орохгүй шууд гарчихаад\n",
      "Pred: Санал хүсэлт \n",
      "\n",
      "Text: Танай сүлжээ болохгүй байх шиг байна хэзээ хэвийн болох вэ\n",
      "Pred: Санал хүсэлт \n",
      "\n",
      "Text: одоо тэр мөнгөө яаж авч байж хаах уу\n",
      "Pred: Санал хүсэлт \n",
      "\n",
      "Text: Е-код интернэтээр худалдан авалтын код онлайнаар авч болох уу?\n",
      "Pred: Асуулт \n",
      "\n"
     ]
    }
   ],
   "source": [
    "for entry in to_pred:\n",
    "    print('Text:', entry)\n",
    "    print('Pred:', text_clf.predict([entry])[0], '\\n')"
   ]
  },
  {
   "cell_type": "code",
   "execution_count": null,
   "id": "4f0146f8",
   "metadata": {},
   "outputs": [],
   "source": []
  }
 ],
 "metadata": {
  "kernelspec": {
   "display_name": "Python 3",
   "language": "python",
   "name": "python3"
  },
  "language_info": {
   "codemirror_mode": {
    "name": "ipython",
    "version": 3
   },
   "file_extension": ".py",
   "mimetype": "text/x-python",
   "name": "python",
   "nbconvert_exporter": "python",
   "pygments_lexer": "ipython3",
   "version": "3.9.1"
  }
 },
 "nbformat": 4,
 "nbformat_minor": 5
}
