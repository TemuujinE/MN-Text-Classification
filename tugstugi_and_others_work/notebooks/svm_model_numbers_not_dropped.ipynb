{
 "cells": [
  {
   "cell_type": "code",
   "execution_count": 2,
   "id": "dfa65f47",
   "metadata": {},
   "outputs": [],
   "source": [
    "import sentencepiece as spm\n",
    "import pandas as pd\n",
    "import numpy as np\n",
    "import time\n",
    "\n",
    "from sklearn.feature_extraction.text import *\n",
    "from sklearn.linear_model import SGDClassifier\n",
    "from sklearn.pipeline import Pipeline\n",
    "from sklearn.model_selection import train_test_split\n",
    "\n",
    "import matplotlib.pyplot as plt\n",
    "import seaborn as sns\n",
    "import warnings\n",
    "warnings.filterwarnings('ignore')"
   ]
  },
  {
   "cell_type": "code",
   "execution_count": 3,
   "id": "38af6c59",
   "metadata": {},
   "outputs": [],
   "source": [
    "df_path = '../../main_dataset/'\n",
    "trained_model_and_fitted_encoder_path = '../models/'\n",
    "plots_path = '../plots/'\n",
    "\n",
    "url = 'https://drive.google.com/file/d/1JAPtGXXHC0f5tKgHuS1b1ErefBXoYZEl/view?usp=sharing'\n",
    "path = 'https://drive.google.com/uc?export=download&id=' + url.split('/')[-2]\n",
    "df = pd.read_csv(path)"
   ]
  },
  {
   "cell_type": "code",
   "execution_count": 4,
   "id": "b671a08a",
   "metadata": {},
   "outputs": [
    {
     "data": {
      "text/plain": [
       "(76466, 3)"
      ]
     },
     "execution_count": 4,
     "metadata": {},
     "output_type": "execute_result"
    }
   ],
   "source": [
    "df.shape"
   ]
  },
  {
   "cell_type": "code",
   "execution_count": 8,
   "id": "5166bd28",
   "metadata": {},
   "outputs": [
    {
     "data": {
      "text/plain": [
       "array(['Гомдол', 'Санал хүсэлт', 'Асуулт', 'Талархал', 'Шүүмжлэл',\n",
       "       'Өргөдөл'], dtype=object)"
      ]
     },
     "execution_count": 8,
     "metadata": {},
     "output_type": "execute_result"
    }
   ],
   "source": [
    "df['type_text'].unique()"
   ]
  },
  {
   "cell_type": "code",
   "execution_count": 16,
   "id": "a5457ed8",
   "metadata": {},
   "outputs": [],
   "source": [
    "sp = spm.SentencePieceProcessor()\n",
    "sp.Load('../mongolian_bert_sentencepiece/mn_uncased.model')\n",
    "\n",
    "def sp_tokenize(w):\n",
    "    return sp.EncodeAsPieces(w)"
   ]
  },
  {
   "cell_type": "code",
   "execution_count": 17,
   "id": "12884088",
   "metadata": {},
   "outputs": [],
   "source": [
    "import re\n",
    "\n",
    "# Only removing numbers and hyphens\n",
    "#df['content'] = [re.sub('\\d', '', sent) for sent in df['content']]\n",
    "#df['content'] = [re.sub('-', ' ', sent) for sent in df['content']]\n",
    "#df['content'] = [re.sub(' \\s+', ' ', sent) for sent in df['content']]"
   ]
  },
  {
   "cell_type": "code",
   "execution_count": 18,
   "id": "2844d763",
   "metadata": {},
   "outputs": [
    {
     "name": "stdout",
     "output_type": "stream",
     "text": [
      "Training time in seconds:  8.341360807418823\n",
      "Prediction time in seconds:  0.8103790283203125\n",
      "Feature count: 25824\n",
      "Classifier accuracy:  0.7876291356087355\n"
     ]
    }
   ],
   "source": [
    "# Stratified train and test split\n",
    "train, test = train_test_split(df, test_size=0.1, random_state=999, stratify=df['type_text'])\n",
    "\n",
    "text_clf = Pipeline([('vect', CountVectorizer(tokenizer=sp_tokenize, lowercase=True)),\n",
    "                     ('tfidf', TfidfTransformer()),\n",
    "                     ('clf', SGDClassifier(loss='hinge', penalty='l2', alpha=1e-4, max_iter=5, random_state=0))])\n",
    "\n",
    "t = time.time()\n",
    "text_clf = text_clf.fit(train['content'], train['type_text'])\n",
    "t = time.time()-t\n",
    "print(\"Training time in seconds: \", t)\n",
    "\n",
    "t = time.time()\n",
    "predicted = text_clf.predict(test['content'])\n",
    "t = time.time()-t\n",
    "print(\"Prediction time in seconds: \", t)\n",
    "\n",
    "print(\"Feature count:\", len(text_clf.named_steps['vect'].vocabulary_))\n",
    "\n",
    "acc = np.mean(predicted == test['type_text'])\n",
    "print(\"Classifier accuracy: \", acc)"
   ]
  },
  {
   "cell_type": "code",
   "execution_count": 6,
   "id": "e50cb839",
   "metadata": {},
   "outputs": [
    {
     "name": "stdout",
     "output_type": "stream",
     "text": [
      "Text: Би шинэ апп татаад орох гэхээр орохгүй шууд гарчихаад\n",
      "Pred: Санал хүсэлт \n",
      "\n",
      "Text: Танай сүлжээ болохгүй байх шиг байна хэзээ хэвийн болох вэ\n",
      "Pred: Санал хүсэлт \n",
      "\n",
      "Text: одоо тэр мөнгөө яаж авч байж хаах уу\n",
      "Pred: Санал хүсэлт \n",
      "\n",
      "Text: Е-код интернэтээр худалдан авалтын код онлайнаар авч болох уу\n",
      "Pred: Санал хүсэлт \n",
      "\n"
     ]
    }
   ],
   "source": [
    "to_pred = [\n",
    "    'Би шинэ апп татаад орох гэхээр орохгүй шууд гарчихаад',\n",
    "    'Танай сүлжээ болохгүй байх шиг байна хэзээ хэвийн болох вэ',\n",
    "    'одоо тэр мөнгөө яаж авч байж хаах уу',\n",
    "    'Е-код интернэтээр худалдан авалтын код онлайнаар авч болох уу'\n",
    "]\n",
    "\n",
    "for entry in to_pred:\n",
    "    print('Text:', entry)\n",
    "    print('Pred:', text_clf.predict([entry])[0], '\\n')"
   ]
  },
  {
   "cell_type": "code",
   "execution_count": null,
   "id": "db5f2d69",
   "metadata": {},
   "outputs": [],
   "source": []
  }
 ],
 "metadata": {
  "kernelspec": {
   "display_name": "Python 3",
   "language": "python",
   "name": "python3"
  },
  "language_info": {
   "codemirror_mode": {
    "name": "ipython",
    "version": 3
   },
   "file_extension": ".py",
   "mimetype": "text/x-python",
   "name": "python",
   "nbconvert_exporter": "python",
   "pygments_lexer": "ipython3",
   "version": "3.9.1"
  }
 },
 "nbformat": 4,
 "nbformat_minor": 5
}
