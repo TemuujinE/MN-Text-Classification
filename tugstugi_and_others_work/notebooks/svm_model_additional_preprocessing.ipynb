{
 "cells": [
  {
   "cell_type": "code",
   "execution_count": 1,
   "id": "9e837098",
   "metadata": {},
   "outputs": [
    {
     "data": {
      "text/plain": [
       "'▁мөнгөө ▁тушаа чихсан ыхаа ▁дараа ▁мэдэгд ээрэй'"
      ]
     },
     "execution_count": 1,
     "metadata": {},
     "output_type": "execute_result"
    }
   ],
   "source": [
    "import sentencepiece as spm\n",
    "import pandas as pd\n",
    "import numpy as np\n",
    "import time\n",
    "\n",
    "from sklearn.feature_extraction.text import *\n",
    "from sklearn.linear_model import SGDClassifier\n",
    "from sklearn.pipeline import Pipeline\n",
    "from sklearn.model_selection import train_test_split\n",
    "\n",
    "import tensorflow as tf\n",
    "from tensorflow import keras\n",
    "\n",
    "import pickle\n",
    "\n",
    "import warnings\n",
    "warnings.filterwarnings('ignore')\n",
    "\n",
    "sp = spm.SentencePieceProcessor()\n",
    "sp.Load('../mongolian_bert_sentencepiece/mn_uncased.model')\n",
    "\n",
    "def sp_tokenize(w):\n",
    "    return sp.EncodeAsPieces(w)\n",
    "\n",
    "\" \".join(sp_tokenize('Мөнгөө тушаачихсаныхаа дараа мэдэгдээрэй'.lower()))"
   ]
  },
  {
   "cell_type": "code",
   "execution_count": 2,
   "id": "e115f1d8",
   "metadata": {},
   "outputs": [],
   "source": [
    "df_path = '../../main_dataset/'\n",
    "trained_model_and_fitted_encoder_path = '../models/'\n",
    "plots_path = '../plots'\n",
    "\n",
    "with open('../dataset/word_index.pickle', 'rb') as handle:\n",
    "    word_index = pickle.load(handle)\n",
    "    \n",
    "with open('../dataset/reversed_word_index.pickle', 'rb') as handle:\n",
    "    reversed_word_index = pickle.load(handle)\n",
    "\n",
    "\n",
    "url = 'https://drive.google.com/file/d/1hm5SD4GMEael6taLagdBc33Wz9ccoflq/view?usp=sharing'\n",
    "path = 'https://drive.google.com/uc?export=download&id=' + url.split('/')[-2]\n",
    "with open(path, 'rb') as handle:\n",
    "    df = pickle.load(handle)"
   ]
  },
  {
   "cell_type": "code",
   "execution_count": 3,
   "id": "39a1cb17",
   "metadata": {},
   "outputs": [],
   "source": [
    "MAX_LEN = 512\n",
    "\n",
    "import itertools\n",
    "\n",
    "for item in df:\n",
    "    item[0] = list(itertools.chain(*item[0]))[:MAX_LEN]"
   ]
  },
  {
   "cell_type": "code",
   "execution_count": 4,
   "id": "2c6b4f06",
   "metadata": {},
   "outputs": [],
   "source": [
    "from sklearn.model_selection import train_test_split\n",
    "\n",
    "train, test = train_test_split(df, test_size = 0.1, random_state = 999)\n",
    "\n",
    "train_data_words  = [i[0] for i in train]\n",
    "train_label_words = [i[1] for i in train]\n",
    "test_data_words   = [i[0] for i in test ]\n",
    "test_label_words  = [i[1] for i in test ]"
   ]
  },
  {
   "cell_type": "code",
   "execution_count": 5,
   "id": "cda150a0",
   "metadata": {},
   "outputs": [],
   "source": [
    "train_words = []\n",
    "test_words = []\n",
    "\n",
    "for item in train_data_words:\n",
    "    sentence = \" \".join(item)\n",
    "    train_words.append(sentence)\n",
    "    \n",
    "for item in test_data_words:\n",
    "    sentence = \" \".join(item)\n",
    "    test_words.append(sentence)"
   ]
  },
  {
   "cell_type": "code",
   "execution_count": 6,
   "id": "466bf10f",
   "metadata": {},
   "outputs": [
    {
     "data": {
      "text/plain": [
       "['Өргөдөл', 'Гомдол', 'Шүүмжлэл', 'Талархал', 'Санал хүсэлт']"
      ]
     },
     "execution_count": 6,
     "metadata": {},
     "output_type": "execute_result"
    }
   ],
   "source": [
    "labels = list(set(test_label_words))\n",
    "labels"
   ]
  },
  {
   "cell_type": "code",
   "execution_count": 7,
   "id": "39771de6",
   "metadata": {},
   "outputs": [
    {
     "name": "stdout",
     "output_type": "stream",
     "text": [
      "Training time in seconds:  7.195267200469971\n",
      "Prediction time in seconds:  0.6535961627960205\n",
      "Feature count: 25746\n",
      "Classifier accuracy:  0.7591212240094155\n"
     ]
    }
   ],
   "source": [
    "text_clf = Pipeline([('vect', CountVectorizer(tokenizer=sp_tokenize, lowercase=True)),\n",
    "                     ('tfidf', TfidfTransformer()),\n",
    "                     ('clf', SGDClassifier(loss='hinge', penalty='l2', alpha=1e-4, max_iter=5, random_state=0))])\n",
    "\n",
    "t = time.time()\n",
    "text_clf = text_clf.fit(train_words, train_label_words)\n",
    "t = time.time()-t\n",
    "print(\"Training time in seconds: \", t)\n",
    "\n",
    "t = time.time()\n",
    "predicted = text_clf.predict(test_words)\n",
    "t = time.time()-t\n",
    "print(\"Prediction time in seconds: \", t)\n",
    "\n",
    "print(\"Feature count:\", len(text_clf.named_steps['vect'].vocabulary_))\n",
    "print(\"Classifier accuracy: \", np.mean(predicted == test_label_words))"
   ]
  },
  {
   "cell_type": "code",
   "execution_count": 8,
   "id": "5e978103",
   "metadata": {},
   "outputs": [
    {
     "data": {
      "text/plain": [
       "array(['Санал хүсэлт'], dtype='<U12')"
      ]
     },
     "execution_count": 8,
     "metadata": {},
     "output_type": "execute_result"
    }
   ],
   "source": [
    "# Sample texts to classify intent\n",
    "to_pred = ['Эмийн найдвартай байдлыг хангаж өгнө үү . Эм чимээгүй дайн үүсгэж байна.Ямарч баталгаа алга жнь: хугацаа нь дууссан гэх мэт',\n",
    "          'Сайн байна уу? Та бүхэндээ баярлалаа. Миний санал: өмнөх жилийн удаан буудайн борлуулалтын үнэ 350000 төгрөг байсан. Энэ жил яагаад бууруулахгүй гэчихээд бага үнээр авав?',\n",
    "          'Засгийн газраас хэрэглүүлж байгаа 100000 орон сууцны хөрөнгөө төрийн банкинд өгөөч ээ байрандаа ормоор байна',\n",
    "          'Энэ засгийн газар хүн бүрд сая төгрөг өгөх болох уу?']\n",
    "\n",
    "text_clf.predict([to_pred[0]])"
   ]
  },
  {
   "cell_type": "code",
   "execution_count": 13,
   "id": "462fdfc3",
   "metadata": {},
   "outputs": [
    {
     "name": "stdout",
     "output_type": "stream",
     "text": [
      "Text: Би шинэ апп татаад орох гэхээр орохгүй шууд гарчихаад\n",
      "Pred: Санал хүсэлт \n",
      "\n",
      "Text: Танай сүлжээ болохгүй байх шиг байна хэзээ хэвийн болох вэ?\n",
      "Pred: Санал хүсэлт \n",
      "\n",
      "Text: одоо тэр мөнгөө яаж авч байж хаах уу\n",
      "Pred: Санал хүсэлт \n",
      "\n",
      "Text: Е-код интернэтээр худалдан авалтын код онлайнаар авч болох уу\n",
      "Pred: Санал хүсэлт \n",
      "\n"
     ]
    }
   ],
   "source": [
    "to_pred_testing = [\n",
    "    'Би шинэ апп татаад орох гэхээр орохгүй шууд гарчихаад',\n",
    "    'Танай сүлжээ болохгүй байх шиг байна хэзээ хэвийн болох вэ',\n",
    "    'одоо тэр мөнгөө яаж авч байж хаах уу',\n",
    "    'Е-код интернэтээр худалдан авалтын код онлайнаар авч болох уу'\n",
    "]\n",
    "\n",
    "for entry in to_pred_testing:\n",
    "    print('Text:', entry)\n",
    "    print('Pred:', text_clf.predict([entry])[0], '\\n')"
   ]
  },
  {
   "cell_type": "code",
   "execution_count": null,
   "id": "84718f78",
   "metadata": {},
   "outputs": [],
   "source": []
  }
 ],
 "metadata": {
  "kernelspec": {
   "display_name": "Python 3",
   "language": "python",
   "name": "python3"
  },
  "language_info": {
   "codemirror_mode": {
    "name": "ipython",
    "version": 3
   },
   "file_extension": ".py",
   "mimetype": "text/x-python",
   "name": "python",
   "nbconvert_exporter": "python",
   "pygments_lexer": "ipython3",
   "version": "3.9.1"
  }
 },
 "nbformat": 4,
 "nbformat_minor": 5
}
